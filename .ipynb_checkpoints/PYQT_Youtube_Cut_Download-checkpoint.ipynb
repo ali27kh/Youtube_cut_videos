{
 "cells": [
  {
   "cell_type": "code",
   "execution_count": 2,
   "id": "82fad3e7",
   "metadata": {},
   "outputs": [],
   "source": [
    "import sys\n",
    "import os\n",
    "import glob\n",
    "import re\n",
    "from PyQt6.QtWidgets import QApplication, QWidget, QVBoxLayout, QLabel, QLineEdit, QPushButton, QMessageBox, QHBoxLayout\n",
    "from PyQt6.QtGui import QPixmap, QIcon\n",
    "import yt_dlp\n",
    "from moviepy.editor import AudioFileClip"
   ]
  },
  {
   "cell_type": "code",
   "execution_count": 3,
   "id": "ece43ac5",
   "metadata": {},
   "outputs": [],
   "source": [
    "def time_to_seconds(time_str):\n",
    "    h, m, s = map(int, time_str.split(':'))\n",
    "    return h * 3600 + m * 60 + s\n",
    "\n",
    "class VideoCutter(QWidget):\n",
    "    def __init__(self):\n",
    "        super().__init__()\n",
    "        self.setWindowTitle(\"YouTube Audio Cutter and MP3 Converter\")\n",
    "        self.setup_ui()\n",
    "        self.audio_file = \"output_audio.mp3\"\n",
    "        self.temp_audio_pattern = \"temp_audio.*\"\n",
    "        self.setWindowIcon(QIcon(\"youtube.png\"))\n",
    "\n",
    "    def setup_ui(self):\n",
    "        self.logo_label = QLabel(self)\n",
    "        pixmap = QPixmap(\"youtube2.png\")\n",
    "        self.logo_label.setPixmap(pixmap)\n",
    "        self.logo_label.setScaledContents(True)\n",
    "        self.logo_label.setFixedSize(80, 50)\n",
    "        header_layout = QHBoxLayout()\n",
    "        header_layout.addWidget(self.logo_label)\n",
    "        \n",
    "        title_label = QLabel(\"Audio Cutter and MP3 Converter\")\n",
    "        title_label.setStyleSheet(\"font-size: 20px; font-weight: bold;\")\n",
    "        header_layout.addWidget(title_label)\n",
    "        header_layout.addStretch()\n",
    "\n",
    "        self.url_label = QLabel(\"YouTube Video URL:\")\n",
    "        self.url_edit = QLineEdit()\n",
    "        self.start_label = QLabel(\"Start Time (hh:mm:ss):\")\n",
    "        self.start_edit = QLineEdit()\n",
    "        self.end_label = QLabel(\"End Time (hh:mm:ss):\")\n",
    "        self.end_edit = QLineEdit()\n",
    "\n",
    "        self.process_button = QPushButton(\"Process and Download MP3\")\n",
    "        self.process_button.clicked.connect(self.process_video)\n",
    "        self.quit_button = QPushButton(\"Exit\")\n",
    "        self.quit_button.clicked.connect(self.close)\n",
    "\n",
    "        layout = QVBoxLayout()\n",
    "        layout.addLayout(header_layout)\n",
    "        layout.addWidget(self.url_label)\n",
    "        layout.addWidget(self.url_edit)\n",
    "        layout.addWidget(self.start_label)\n",
    "        layout.addWidget(self.start_edit)\n",
    "        layout.addWidget(self.end_label)\n",
    "        layout.addWidget(self.end_edit)\n",
    "        layout.addWidget(self.process_button)\n",
    "        \n",
    "        layout.addWidget(self.quit_button)\n",
    "\n",
    "        self.setLayout(layout)\n",
    "\n",
    "        self.setStyleSheet(\"\"\"\n",
    "            QWidget {\n",
    "                font-size: 14px;\n",
    "                background-color: #d6c7c7;\n",
    "            }\n",
    "            QLabel {\n",
    "                font-weight: bold;\n",
    "            }\n",
    "            QLineEdit {\n",
    "                padding: 5px;\n",
    "                border-radius: 5px;\n",
    "                border: 1px solid #ccc;\n",
    "                background-color: #fff;\n",
    "            }\n",
    "            QPushButton {\n",
    "                background-color: #753730;\n",
    "                color: white;\n",
    "                border: none;\n",
    "                padding: 10px;\n",
    "                border-radius: 5px;\n",
    "                margin-top: 10px;\n",
    "            }\n",
    "            QPushButton:hover {\n",
    "                background-color: #ad786a;\n",
    "            }\n",
    "            QPushButton:pressed {\n",
    "                background-color: #a14b33;\n",
    "            }\n",
    "        \"\"\")\n",
    "\n",
    "        self.resize(600, 400)\n",
    "\n",
    "    def validate_time_input(self, time_str):\n",
    "        pattern = r\"^([0-1]?[0-9]|2[0-3]):([0-5]?[0-9]):([0-5]?[0-9])$\"\n",
    "        match = re.match(pattern, time_str)\n",
    "        if match:\n",
    "            hours, minutes, seconds = map(int, match.groups())\n",
    "            if 0 <= hours < 24 and 0 <= minutes < 60 and 0 <= seconds < 60:\n",
    "                return True\n",
    "        return False\n",
    "\n",
    "    def process_video(self):\n",
    "        url = self.url_edit.text()\n",
    "        start_time = self.start_edit.text()\n",
    "        end_time = self.end_edit.text()\n",
    "\n",
    "        if not self.validate_time_input(start_time):\n",
    "            QMessageBox.warning(self, \"Invalid Time\", \"Please enter a valid start time (hh:mm:ss) within the correct range (0 <= hh < 24, 0 <= mm < 60, 0 <= ss < 60).\")\n",
    "            return\n",
    "\n",
    "        if not self.validate_time_input(end_time):\n",
    "            QMessageBox.warning(self, \"Invalid Time\", \"Please enter a valid end time (hh:mm:ss) within the correct range (0 <= hh < 24, 0 <= mm < 60, 0 <= ss < 60).\")\n",
    "            return\n",
    "\n",
    "        start_sec = time_to_seconds(start_time)\n",
    "        end_sec = time_to_seconds(end_time)\n",
    "\n",
    "        if start_sec >= end_sec:\n",
    "            QMessageBox.warning(self, \"Invalid Time Range\", \"The start time cannot be greater than or equal to the end time.\")\n",
    "            return\n",
    "\n",
    "        try:\n",
    "            ydl_opts = {\n",
    "                'format': 'bestaudio/best',\n",
    "                'outtmpl': 'temp_audio.%(ext)s',\n",
    "                'postprocessors': [{\n",
    "                    'key': 'FFmpegExtractAudio',\n",
    "                    'preferredcodec': 'mp3',\n",
    "                    'preferredquality': '192',\n",
    "                }],\n",
    "            }\n",
    "\n",
    "            with yt_dlp.YoutubeDL(ydl_opts) as ydl:\n",
    "                ydl.download([url])\n",
    "\n",
    "            temp_audio_files = glob.glob(\"temp_audio.*\")\n",
    "            if not temp_audio_files:\n",
    "                raise FileNotFoundError(\"The temporary file was not found!\")\n",
    "\n",
    "            temp_audio = temp_audio_files[0]\n",
    "\n",
    "            output_audio_path = self.audio_file\n",
    "\n",
    "            os.system(f'ffmpeg -i \"{temp_audio}\" -ss {start_sec} -to {end_sec} -acodec libmp3lame -ab 192k \"{output_audio_path}\"')\n",
    "\n",
    "            os.remove(temp_audio)\n",
    "\n",
    "            QMessageBox.information(self, \"Processing Complete\", f\"MP3 file is ready: {self.audio_file}\")\n",
    "        except Exception as e:\n",
    "            QMessageBox.critical(self, \"Error\", f\"An error occurred: {str(e)}\")"
   ]
  },
  {
   "cell_type": "code",
   "execution_count": 4,
   "id": "b07e4ccb",
   "metadata": {},
   "outputs": [
    {
     "name": "stderr",
     "output_type": "stream",
     "text": [
      "Deprecated Feature: Support for Python version 3.8 has been deprecated. Please update to Python 3.9 or above\n"
     ]
    },
    {
     "name": "stdout",
     "output_type": "stream",
     "text": [
      "[youtube:tab] Extracting URL: https://www.youtube.com/watch?v=76roWerrZ1g&list=LL&index=1&pp=gAQBiAQB\n",
      "[youtube:tab] Downloading playlist LL - add --no-playlist to download just the video 76roWerrZ1g\n",
      "[youtube:tab] LL: Downloading webpage\n"
     ]
    },
    {
     "name": "stderr",
     "output_type": "stream",
     "text": [
      "WARNING: [youtube:tab] Unable to recognize playlist. Downloading just video 76roWerrZ1g\n"
     ]
    },
    {
     "name": "stdout",
     "output_type": "stream",
     "text": [
      "[youtube] Extracting URL: https://www.youtube.com/watch?v=76roWerrZ1g\n",
      "[youtube] 76roWerrZ1g: Downloading webpage\n",
      "[youtube] 76roWerrZ1g: Downloading ios player API JSON\n",
      "[youtube] 76roWerrZ1g: Downloading mweb player API JSON\n",
      "[youtube] 76roWerrZ1g: Downloading player 20830619\n"
     ]
    },
    {
     "name": "stderr",
     "output_type": "stream",
     "text": [
      "WARNING: [youtube] 76roWerrZ1g: Signature extraction failed: Some formats may be missing\n"
     ]
    },
    {
     "name": "stdout",
     "output_type": "stream",
     "text": [
      "[youtube] 76roWerrZ1g: Downloading m3u8 information\n",
      "[info] 76roWerrZ1g: Downloading 1 format(s): 251\n",
      "[download] Destination: temp_audio.webm\n",
      "[download] 100% of    7.19MiB in 00:00:04 at 1.63MiB/s   \n",
      "[ExtractAudio] Destination: temp_audio.mp3\n",
      "Deleting original file temp_audio.webm (pass -k to keep)\n"
     ]
    },
    {
     "ename": "SystemExit",
     "evalue": "0",
     "output_type": "error",
     "traceback": [
      "An exception has occurred, use %tb to see the full traceback.\n",
      "\u001b[1;31mSystemExit\u001b[0m\u001b[1;31m:\u001b[0m 0\n"
     ]
    }
   ],
   "source": [
    "if __name__ == \"__main__\":\n",
    "    app = QApplication(sys.argv)\n",
    "    window = VideoCutter()\n",
    "    window.show()\n",
    "    sys.exit(app.exec())"
   ]
  },
  {
   "cell_type": "code",
   "execution_count": null,
   "id": "dc938bab",
   "metadata": {},
   "outputs": [],
   "source": []
  }
 ],
 "metadata": {
  "kernelspec": {
   "display_name": "Python 3",
   "language": "python",
   "name": "python3"
  },
  "language_info": {
   "codemirror_mode": {
    "name": "ipython",
    "version": 3
   },
   "file_extension": ".py",
   "mimetype": "text/x-python",
   "name": "python",
   "nbconvert_exporter": "python",
   "pygments_lexer": "ipython3",
   "version": "3.8.8"
  }
 },
 "nbformat": 4,
 "nbformat_minor": 5
}
